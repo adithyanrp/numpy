{
 "cells": [
  {
   "cell_type": "code",
   "execution_count": 18,
   "id": "f4d53bbc-cebd-41de-9ee3-54043ba1445f",
   "metadata": {},
   "outputs": [],
   "source": [
    "#ONE DIMENSTIONAL ARRAY"
   ]
  },
  {
   "cell_type": "code",
   "execution_count": 22,
   "id": "4e01ae3c-5ccf-4212-a3db-a20378ecd95d",
   "metadata": {},
   "outputs": [
    {
     "name": "stdout",
     "output_type": "stream",
     "text": [
      "[1 2 3 4]\n",
      "1\n"
     ]
    }
   ],
   "source": [
    "import numpy as np\n",
    "list1=[1,2,3,4]\n",
    "arr1=np.array(list1)\n",
    "print(arr1)\n",
    "print(arr1.ndim)"
   ]
  },
  {
   "cell_type": "code",
   "execution_count": 4,
   "id": "e4025ae6-c133-4e03-bb5d-be9b26157a42",
   "metadata": {},
   "outputs": [
    {
     "name": "stdout",
     "output_type": "stream",
     "text": [
      "[2 4 6 8]\n"
     ]
    }
   ],
   "source": [
    "list1=[1,2,3,4]\n"
   ]
  },
  {
   "cell_type": "code",
   "execution_count": 5,
   "id": "a71a6502-ffa1-48b4-acc3-1443bb2c4b67",
   "metadata": {},
   "outputs": [
    {
     "name": "stdout",
     "output_type": "stream",
     "text": [
      "[1, 2, 3, 4, 1, 2, 3, 4]\n"
     ]
    }
   ],
   "source": [
    "print(list1*2)"
   ]
  },
  {
   "cell_type": "code",
   "execution_count": 6,
   "id": "8354edeb-eee9-48b4-b0f0-f43c304a9db7",
   "metadata": {},
   "outputs": [
    {
     "data": {
      "text/plain": [
       "numpy.ndarray"
      ]
     },
     "execution_count": 6,
     "metadata": {},
     "output_type": "execute_result"
    }
   ],
   "source": [
    "type(arr1)"
   ]
  },
  {
   "cell_type": "code",
   "execution_count": 20,
   "id": "c4058e50-b7ef-48f6-ada7-578763a130b3",
   "metadata": {},
   "outputs": [
    {
     "name": "stdout",
     "output_type": "stream",
     "text": [
      "[10 20 30 40]\n"
     ]
    },
    {
     "data": {
      "text/plain": [
       "(4,)"
      ]
     },
     "execution_count": 20,
     "metadata": {},
     "output_type": "execute_result"
    }
   ],
   "source": [
    "arr2=np.array([10,20,30,40])\n",
    "print(arr2)\n",
    "arr2.shape"
   ]
  },
  {
   "cell_type": "code",
   "execution_count": null,
   "id": "e3934fac-0eee-4ee1-83e4-6e84b667c040",
   "metadata": {},
   "outputs": [],
   "source": [
    "#TWO DIMENSIONAL ARRAY"
   ]
  },
  {
   "cell_type": "code",
   "execution_count": 23,
   "id": "4f92584a-ed47-48ab-b25d-e36e41b3ee38",
   "metadata": {},
   "outputs": [
    {
     "name": "stdout",
     "output_type": "stream",
     "text": [
      "[[ 1  2  3]\n",
      " [ 4  5  6]\n",
      " [ 7  8  9]\n",
      " [10 11 12]]\n",
      "2\n",
      "12\n",
      "(4, 3)\n"
     ]
    }
   ],
   "source": [
    "arr3=np.array([[1,2,3],[4,5,6],[7,8,9],[10,11,12]])\n",
    "print(arr3)\n",
    "print(arr3.ndim)\n",
    "print(arr3.size)\n",
    "print(arr3.shape)"
   ]
  },
  {
   "cell_type": "code",
   "execution_count": 9,
   "id": "0fbd7312-2008-49c7-974f-343dd9a0db50",
   "metadata": {},
   "outputs": [
    {
     "name": "stdout",
     "output_type": "stream",
     "text": [
      "[[12 13 14]\n",
      " [14 15 16]]\n",
      "6\n"
     ]
    }
   ],
   "source": [
    "arr4=np.array([[12,13,14],[14,15,16]])\n",
    "print(arr4)\n",
    "print(arr4.size)"
   ]
  },
  {
   "cell_type": "code",
   "execution_count": null,
   "id": "ad051170-d53c-4fda-bff7-dbaebd4f01dd",
   "metadata": {},
   "outputs": [],
   "source": [
    "#THREE DIMENSIONAL ARRAY"
   ]
  },
  {
   "cell_type": "code",
   "execution_count": 14,
   "id": "29206b07-68b3-41ae-9cbb-06b98601aa06",
   "metadata": {},
   "outputs": [
    {
     "name": "stdout",
     "output_type": "stream",
     "text": [
      "[[[ 1  2  3]\n",
      "  [ 4  5  6]\n",
      "  [ 7  8  9]]\n",
      "\n",
      " [[10 15 20]\n",
      "  [30 40 50]\n",
      "  [60 70 80]]\n",
      "\n",
      " [[34 56 78]\n",
      "  [18 19 20]\n",
      "  [22 33 44]]]\n",
      "3\n",
      "27\n",
      "(3, 3, 3)\n"
     ]
    }
   ],
   "source": [
    "arr5=np.array([[[1,2,3],[4,5,6],[7,8,9]],[[10,15,20],[30,40,50],[60,70,80]],[[34,56,78],[18,19,20],[22,33,44]]])\n",
    "print(arr5)\n",
    "print(arr5.ndim)\n",
    "print(arr5.size)\n",
    "print(arr5.shape)\n",
    "\n"
   ]
  },
  {
   "cell_type": "code",
   "execution_count": 19,
   "id": "b31c9cd7-fc72-4c2b-bb68-17c77b38903c",
   "metadata": {},
   "outputs": [],
   "source": [
    "#RESHAPE AN ARRAY"
   ]
  },
  {
   "cell_type": "code",
   "execution_count": 24,
   "id": "b18c3dd9-9347-4de3-98a9-10ee29a43afb",
   "metadata": {},
   "outputs": [],
   "source": [
    "#1D TO 2D ARRAY"
   ]
  },
  {
   "cell_type": "code",
   "execution_count": 26,
   "id": "5766a9f9-7805-4052-a81f-fba3eca20d4a",
   "metadata": {},
   "outputs": [
    {
     "name": "stdout",
     "output_type": "stream",
     "text": [
      "[[1 2]\n",
      " [3 4]]\n"
     ]
    }
   ],
   "source": [
    "arr6=arr1.reshape(2,2)\n",
    "print(arr6)"
   ]
  },
  {
   "cell_type": "code",
   "execution_count": null,
   "id": "9e608406-ea16-4b12-9c47-dc72d400a8dc",
   "metadata": {},
   "outputs": [],
   "source": [
    "#1D TO 3D ARRAY"
   ]
  },
  {
   "cell_type": "code",
   "execution_count": 31,
   "id": "13136db9-ede1-4f2f-99ff-4317434ed9d2",
   "metadata": {},
   "outputs": [
    {
     "name": "stdout",
     "output_type": "stream",
     "text": [
      "[[[1 2]\n",
      "  [3 4]]\n",
      "\n",
      " [[5 6]\n",
      "  [7 8]]]\n"
     ]
    }
   ],
   "source": [
    "arr7=np.array([1,2,3,4,5,6,7,8])\n",
    "arr8=arr7.reshape(2,2,2)\n",
    "print(arr8)"
   ]
  },
  {
   "cell_type": "code",
   "execution_count": null,
   "id": "277711c1-56b9-499f-9d25-327758ffe1e9",
   "metadata": {},
   "outputs": [],
   "source": [
    "#2D TO 3D ARRAY"
   ]
  },
  {
   "cell_type": "code",
   "execution_count": 34,
   "id": "4873e693-418b-4dab-8e3c-90e4a26fee5a",
   "metadata": {},
   "outputs": [
    {
     "name": "stdout",
     "output_type": "stream",
     "text": [
      "[[[1 2]\n",
      "  [3 4]]\n",
      "\n",
      " [[5 6]\n",
      "  [6 7]]]\n"
     ]
    }
   ],
   "source": [
    "arr8=np.array([[1,2],[3,4],[5,6],[6,7]])\n",
    "arr9=arr8.reshape(2,2,2)\n",
    "print(arr9)"
   ]
  },
  {
   "cell_type": "code",
   "execution_count": null,
   "id": "17db4b55-9804-4b89-8fe7-41dd78f8eaae",
   "metadata": {},
   "outputs": [],
   "source": [
    "#2D TO 2D ARRAY"
   ]
  },
  {
   "cell_type": "code",
   "execution_count": 37,
   "id": "64e85773-1ca3-4ea0-b82b-a713a2587b05",
   "metadata": {},
   "outputs": [
    {
     "name": "stdout",
     "output_type": "stream",
     "text": [
      "[[1 2 3 4]\n",
      " [5 6 6 7]]\n"
     ]
    }
   ],
   "source": [
    "arr10=arr8.reshape(2,4)\n",
    "print(arr10)"
   ]
  },
  {
   "cell_type": "code",
   "execution_count": null,
   "id": "a7e0e93e-2a48-407f-b15d-67161700d1f3",
   "metadata": {},
   "outputs": [],
   "source": [
    "#3D TO 3D ARRAY"
   ]
  },
  {
   "cell_type": "code",
   "execution_count": 41,
   "id": "825836cd-6bf5-4281-b1c0-efbd6469a9dc",
   "metadata": {},
   "outputs": [
    {
     "name": "stdout",
     "output_type": "stream",
     "text": [
      "[[[ 1  2  3]\n",
      "  [ 4  5  6]\n",
      "  [ 7  8  9]\n",
      "  [10 15 20]\n",
      "  [30 40 50]\n",
      "  [60 70 80]\n",
      "  [34 56 78]\n",
      "  [18 19 20]\n",
      "  [22 33 44]]]\n"
     ]
    }
   ],
   "source": [
    "arr11=arr5.reshape(1,9,3)\n",
    "print(arr11)\n"
   ]
  },
  {
   "cell_type": "code",
   "execution_count": 42,
   "id": "b4d16c71-4307-410f-8ef0-34c5b261e458",
   "metadata": {},
   "outputs": [
    {
     "name": "stdout",
     "output_type": "stream",
     "text": [
      "[12 13 14 14 15 16]\n"
     ]
    }
   ],
   "source": [
    "arr12=arr4.reshape(-1)\n",
    "print(arr12)"
   ]
  },
  {
   "cell_type": "code",
   "execution_count": null,
   "id": "d14e7279-ba10-4f6b-891e-32a48b265e9b",
   "metadata": {},
   "outputs": [],
   "source": [
    "#FIND DATA TYPES OF AN ARRAY"
   ]
  },
  {
   "cell_type": "code",
   "execution_count": 3,
   "id": "9f710dac-41a1-4d2c-9f61-4da6c3ed39d1",
   "metadata": {},
   "outputs": [
    {
     "name": "stdout",
     "output_type": "stream",
     "text": [
      "int32\n",
      "float64\n",
      "<U1\n"
     ]
    }
   ],
   "source": [
    "import numpy as np\n",
    "arr13=np.array([1,2,3,4,5,])\n",
    "print(arr13.dtype)\n",
    "arr14=np.array([1.2,2.2,3.3,4.4])\n",
    "print(arr14.dtype)\n",
    "arr15=np.array(['a','b','c','d','e'])\n",
    "print(arr15.dtype)"
   ]
  },
  {
   "cell_type": "code",
   "execution_count": null,
   "id": "dd2ea855-5336-4fd4-b851-a4f19f9c823d",
   "metadata": {},
   "outputs": [],
   "source": [
    "#CREATE AN ARRAY WITH SPECIFIC OF DATATYPE"
   ]
  },
  {
   "cell_type": "raw",
   "id": "bf0734b3-ddf0-45bf-ab8b-f2d8dc86d8b0",
   "metadata": {},
   "source": [
    "\n"
   ]
  },
  {
   "cell_type": "code",
   "execution_count": 5,
   "id": "38ade1bb-c498-451d-aebf-f75944ec84e4",
   "metadata": {},
   "outputs": [
    {
     "name": "stdout",
     "output_type": "stream",
     "text": [
      "[1. 2. 3. 4. 5.]\n",
      "float16\n"
     ]
    }
   ],
   "source": [
    "import numpy as np\n",
    "arr16=np.array([1,2,3,4,5],dtype=np.float16)\n",
    "print(arr16)\n",
    "print(arr16.dtype)"
   ]
  },
  {
   "cell_type": "code",
   "execution_count": 8,
   "id": "cc1da6e5-480c-4544-846a-591ea0ac7c16",
   "metadata": {},
   "outputs": [
    {
     "name": "stdout",
     "output_type": "stream",
     "text": [
      "[1 2 3 4 5]\n",
      "int32\n"
     ]
    }
   ],
   "source": [
    "import numpy as np\n",
    "arr17=np.array([1.1,2.2,3.3,4.4,5.5],dtype=np.int32)\n",
    "print(arr17)\n",
    "print(arr17.dtype)"
   ]
  },
  {
   "cell_type": "code",
   "execution_count": null,
   "id": "26a33640-e783-4a80-8b94-18f669b0fd62",
   "metadata": {},
   "outputs": [],
   "source": [
    "#HOW TO CONVERT AN ARRAY TO ANOTHER DATATYPE"
   ]
  },
  {
   "cell_type": "code",
   "execution_count": 15,
   "id": "886c3911-f78e-41a7-ba42-e5986fe3679e",
   "metadata": {},
   "outputs": [
    {
     "name": "stdout",
     "output_type": "stream",
     "text": [
      "[1. 2. 3. 4. 5.]\n",
      "float16\n"
     ]
    }
   ],
   "source": [
    "import numpy as np\n",
    "arr18=np.array([1,2,3,4,5],dtype=np.int8)\n",
    "arr19=arr18.astype(np.float16)\n",
    "print(arr19)\n",
    "print(arr19.dtype)"
   ]
  },
  {
   "cell_type": "code",
   "execution_count": null,
   "id": "e7612970-471f-4523-98c3-b146ec633c30",
   "metadata": {},
   "outputs": [],
   "source": [
    "#ARRAY CREATION METHOD"
   ]
  },
  {
   "cell_type": "code",
   "execution_count": null,
   "id": "357db4e0-de7c-49fb-a801-a88236a82583",
   "metadata": {},
   "outputs": [],
   "source": [
    "#numpy.array()"
   ]
  },
  {
   "cell_type": "code",
   "execution_count": 17,
   "id": "2c33166c-561b-43ca-af92-79885824eb2a",
   "metadata": {},
   "outputs": [
    {
     "name": "stdout",
     "output_type": "stream",
     "text": [
      "[1 2 3 4]\n"
     ]
    }
   ],
   "source": [
    "arr20=np.array([1,2,3,4])\n",
    "print(arr20)"
   ]
  },
  {
   "cell_type": "code",
   "execution_count": null,
   "id": "d385201b-1180-4131-b0dd-2ec3ec957af7",
   "metadata": {},
   "outputs": [],
   "source": [
    "#NUMPY.ZEROS()"
   ]
  },
  {
   "cell_type": "code",
   "execution_count": 19,
   "id": "2573229c-dc22-4a7a-ac41-f0a85603ca6a",
   "metadata": {},
   "outputs": [
    {
     "name": "stdout",
     "output_type": "stream",
     "text": [
      "[0. 0. 0. 0. 0. 0.]\n"
     ]
    }
   ],
   "source": [
    "arr21=np.zeros(6)\n",
    "print(arr21)"
   ]
  },
  {
   "cell_type": "code",
   "execution_count": 21,
   "id": "f3617dea-9d42-4fba-ad1c-16c0d1e546a0",
   "metadata": {},
   "outputs": [
    {
     "name": "stdout",
     "output_type": "stream",
     "text": [
      "[[0. 0. 0. 0.]\n",
      " [0. 0. 0. 0.]\n",
      " [0. 0. 0. 0.]\n",
      " [0. 0. 0. 0.]]\n"
     ]
    }
   ],
   "source": [
    "arr22=np.zeros((4,4))\n",
    "print(arr22)"
   ]
  },
  {
   "cell_type": "code",
   "execution_count": 23,
   "id": "f4cf9a37-e651-4a25-b0f3-3fb313850697",
   "metadata": {},
   "outputs": [
    {
     "name": "stdout",
     "output_type": "stream",
     "text": [
      "[[[0. 0. 0. 0.]\n",
      "  [0. 0. 0. 0.]\n",
      "  [0. 0. 0. 0.]\n",
      "  [0. 0. 0. 0.]]\n",
      "\n",
      " [[0. 0. 0. 0.]\n",
      "  [0. 0. 0. 0.]\n",
      "  [0. 0. 0. 0.]\n",
      "  [0. 0. 0. 0.]]]\n"
     ]
    }
   ],
   "source": [
    "arr23=np.zeros(((2,4,4)))\n",
    "print(arr23)"
   ]
  },
  {
   "cell_type": "code",
   "execution_count": null,
   "id": "dcbde8e5-45d2-4353-a2fe-54e5c87bd5cc",
   "metadata": {},
   "outputs": [],
   "source": [
    "#numpy.ones()"
   ]
  },
  {
   "cell_type": "code",
   "execution_count": 26,
   "id": "ebe917d4-4fa8-4e82-8c2b-0cebbe2cd7a4",
   "metadata": {},
   "outputs": [
    {
     "name": "stdout",
     "output_type": "stream",
     "text": [
      "[[[1. 1. 1. 1.]\n",
      "  [1. 1. 1. 1.]\n",
      "  [1. 1. 1. 1.]\n",
      "  [1. 1. 1. 1.]]\n",
      "\n",
      " [[1. 1. 1. 1.]\n",
      "  [1. 1. 1. 1.]\n",
      "  [1. 1. 1. 1.]\n",
      "  [1. 1. 1. 1.]]]\n"
     ]
    }
   ],
   "source": [
    "arr24=np.ones((2,4,4))\n",
    "print(arr24)"
   ]
  },
  {
   "cell_type": "code",
   "execution_count": null,
   "id": "44e8228d-693e-452b-8420-01715c959b11",
   "metadata": {},
   "outputs": [],
   "source": [
    "#numpy.arange()"
   ]
  },
  {
   "cell_type": "code",
   "execution_count": 31,
   "id": "b0530ed4-3a3e-4a0d-b4f4-22573292303e",
   "metadata": {},
   "outputs": [
    {
     "name": "stdout",
     "output_type": "stream",
     "text": [
      "[0 1 2 3 4 5 6 7 8 9]\n"
     ]
    }
   ],
   "source": [
    "arr25=np.arange(10)\n",
    "print(arr25)"
   ]
  },
  {
   "cell_type": "code",
   "execution_count": 33,
   "id": "c802be49-5172-490f-b4a1-84145ae0eaaa",
   "metadata": {},
   "outputs": [
    {
     "name": "stdout",
     "output_type": "stream",
     "text": [
      "[ 1  2  3  4  5  6  7  8  9 10]\n"
     ]
    }
   ],
   "source": [
    "arr26=np.arange(1,11)\n",
    "print(arr26)"
   ]
  },
  {
   "cell_type": "code",
   "execution_count": 34,
   "id": "eb005282-12d3-4408-bd11-55288d466bed",
   "metadata": {},
   "outputs": [
    {
     "name": "stdout",
     "output_type": "stream",
     "text": [
      "[10 11 12 13 14 15 16 17 18 19 20 21 22 23 24 25 26]\n"
     ]
    }
   ],
   "source": [
    "arr27=np.arange(10,27)\n",
    "print(arr27)"
   ]
  },
  {
   "cell_type": "code",
   "execution_count": 35,
   "id": "314f6e2f-9d7f-47e3-aeb1-dceb89810ae6",
   "metadata": {},
   "outputs": [
    {
     "name": "stdout",
     "output_type": "stream",
     "text": [
      "[10 12 14 16 18 20 22 24 26 28]\n"
     ]
    }
   ],
   "source": [
    "arr28=np.arange(10,29,2)\n",
    "print(arr28)"
   ]
  },
  {
   "cell_type": "code",
   "execution_count": null,
   "id": "7f80d1e3-e8d1-4443-8061-f843739a8c27",
   "metadata": {},
   "outputs": [],
   "source": [
    "#numpy.linspace()"
   ]
  },
  {
   "cell_type": "code",
   "execution_count": 36,
   "id": "13725696-ef49-44da-9bd6-02df0b4a9d6e",
   "metadata": {},
   "outputs": [
    {
     "name": "stdout",
     "output_type": "stream",
     "text": [
      "[ 1.    3.25  5.5   7.75 10.  ]\n"
     ]
    }
   ],
   "source": [
    "arr29=np.linspace(1,10,5)\n",
    "print(arr29)"
   ]
  },
  {
   "cell_type": "code",
   "execution_count": null,
   "id": "c2b7ab23-2f84-454c-b7cc-da4af9277f70",
   "metadata": {},
   "outputs": [],
   "source": [
    "#numpy.eye()"
   ]
  },
  {
   "cell_type": "code",
   "execution_count": 37,
   "id": "c8381bcd-2ca5-4684-ad30-40c45f1d1eb9",
   "metadata": {},
   "outputs": [
    {
     "name": "stdout",
     "output_type": "stream",
     "text": [
      "[[1. 0. 0. 0.]\n",
      " [0. 1. 0. 0.]\n",
      " [0. 0. 1. 0.]\n",
      " [0. 0. 0. 1.]]\n"
     ]
    }
   ],
   "source": [
    "arr30=np.eye(4)\n",
    "print(arr30)"
   ]
  },
  {
   "cell_type": "code",
   "execution_count": 38,
   "id": "21678306-827c-47e7-bb9a-ba48cdc3aa0e",
   "metadata": {},
   "outputs": [
    {
     "name": "stdout",
     "output_type": "stream",
     "text": [
      "[[1. 0. 0. 0.]\n",
      " [0. 1. 0. 0.]\n",
      " [0. 0. 1. 0.]\n",
      " [0. 0. 0. 1.]\n",
      " [0. 0. 0. 0.]\n",
      " [0. 0. 0. 0.]]\n"
     ]
    }
   ],
   "source": [
    "arr31=np.eye(6,4)\n",
    "print(arr31)"
   ]
  },
  {
   "cell_type": "code",
   "execution_count": 39,
   "id": "f69eb53f-728f-4e1f-8ae7-4ba94f974ad1",
   "metadata": {},
   "outputs": [
    {
     "name": "stdout",
     "output_type": "stream",
     "text": [
      "[[0. 1. 0. 0.]\n",
      " [0. 0. 1. 0.]\n",
      " [0. 0. 0. 1.]\n",
      " [0. 0. 0. 0.]\n",
      " [0. 0. 0. 0.]\n",
      " [0. 0. 0. 0.]]\n"
     ]
    }
   ],
   "source": [
    "arr32=np.eye(6,4,1)\n",
    "print(arr32)"
   ]
  },
  {
   "cell_type": "code",
   "execution_count": 40,
   "id": "f64a8240-3361-41b5-b76b-1faa6c77b64b",
   "metadata": {},
   "outputs": [
    {
     "name": "stdout",
     "output_type": "stream",
     "text": [
      "[[0. 0. 1. 0.]\n",
      " [0. 0. 0. 1.]\n",
      " [0. 0. 0. 0.]\n",
      " [0. 0. 0. 0.]\n",
      " [0. 0. 0. 0.]\n",
      " [0. 0. 0. 0.]]\n"
     ]
    }
   ],
   "source": [
    "arr33=np.eye(6,4,2)\n",
    "print(arr33)"
   ]
  },
  {
   "cell_type": "code",
   "execution_count": 41,
   "id": "f954c16c-4427-4a57-821b-5f4037ec12a1",
   "metadata": {},
   "outputs": [
    {
     "name": "stdout",
     "output_type": "stream",
     "text": [
      "[[0. 0. 0. 0.]\n",
      " [1. 0. 0. 0.]\n",
      " [0. 1. 0. 0.]\n",
      " [0. 0. 1. 0.]\n",
      " [0. 0. 0. 1.]\n",
      " [0. 0. 0. 0.]]\n"
     ]
    }
   ],
   "source": [
    "arr34=np.eye(6,4,-1)\n",
    "print(arr34)"
   ]
  },
  {
   "cell_type": "code",
   "execution_count": null,
   "id": "f74f717b-42f6-42c3-a7d5-c33de11e6b61",
   "metadata": {},
   "outputs": [],
   "source": [
    "#numpy.full()"
   ]
  },
  {
   "cell_type": "code",
   "execution_count": 43,
   "id": "ba09099d-eca9-4c71-88a4-dc3e981468ed",
   "metadata": {},
   "outputs": [
    {
     "name": "stdout",
     "output_type": "stream",
     "text": [
      "[12 12 12 12 12]\n"
     ]
    }
   ],
   "source": [
    "arr35=np.full(5,12)\n",
    "print(arr35)"
   ]
  },
  {
   "cell_type": "code",
   "execution_count": 45,
   "id": "2883f0ed-1285-454f-863c-99a1f2d7ebd7",
   "metadata": {},
   "outputs": [
    {
     "name": "stdout",
     "output_type": "stream",
     "text": [
      "[[13 13 13 13 13]\n",
      " [13 13 13 13 13]\n",
      " [13 13 13 13 13]]\n"
     ]
    }
   ],
   "source": [
    "arr36=np.full((3,5),13)\n",
    "print(arr36)"
   ]
  },
  {
   "cell_type": "code",
   "execution_count": null,
   "id": "31c93e00-78e8-4ba6-843d-8f1496b4757b",
   "metadata": {},
   "outputs": [],
   "source": [
    "#numpy.random.randint()\n"
   ]
  },
  {
   "cell_type": "code",
   "execution_count": 51,
   "id": "4cb4d462-3639-4ba7-b375-ac60d67ecab8",
   "metadata": {},
   "outputs": [
    {
     "name": "stdout",
     "output_type": "stream",
     "text": [
      "[[ 1 10]\n",
      " [ 8  9]]\n"
     ]
    }
   ],
   "source": [
    "arr37=np.random.randint(0,11,(2,2))\n",
    "print(arr37)"
   ]
  },
  {
   "cell_type": "code",
   "execution_count": 53,
   "id": "6504e155-7dda-4183-8cee-545f787d0ef8",
   "metadata": {},
   "outputs": [
    {
     "name": "stdout",
     "output_type": "stream",
     "text": [
      "[[[63  9]\n",
      "  [90 37]]\n",
      "\n",
      " [[79  7]\n",
      "  [ 6 39]]]\n"
     ]
    }
   ],
   "source": [
    "arr38=np.random.randint(0,100,((2,2,2)))\n",
    "print(arr38)"
   ]
  },
  {
   "cell_type": "code",
   "execution_count": null,
   "id": "41ac6f4e-2568-4672-8483-119bfbedb4eb",
   "metadata": {},
   "outputs": [],
   "source": [
    "#numpy.random.random()"
   ]
  },
  {
   "cell_type": "code",
   "execution_count": 55,
   "id": "f839b15b-e9b7-4e78-a6f6-896023965201",
   "metadata": {},
   "outputs": [
    {
     "name": "stdout",
     "output_type": "stream",
     "text": [
      "[0.18559159 0.73719787 0.49942327 0.3587865 ]\n"
     ]
    }
   ],
   "source": [
    "arr39=np.random.random(4)\n",
    "print(arr39)"
   ]
  },
  {
   "cell_type": "code",
   "execution_count": 57,
   "id": "d25d1e96-f9a3-48e3-b95c-3f4e25f65e5d",
   "metadata": {},
   "outputs": [
    {
     "name": "stdout",
     "output_type": "stream",
     "text": [
      "[[0.9634226  0.94778752]\n",
      " [0.66682234 0.62878752]]\n"
     ]
    }
   ],
   "source": [
    "arr40=np.random.random((2,2))\n",
    "print(arr40)"
   ]
  },
  {
   "cell_type": "code",
   "execution_count": null,
   "id": "331b7bad-a654-4ed7-ae95-c6cafc527167",
   "metadata": {},
   "outputs": [],
   "source": []
  }
 ],
 "metadata": {
  "kernelspec": {
   "display_name": "Python 3 (ipykernel)",
   "language": "python",
   "name": "python3"
  },
  "language_info": {
   "codemirror_mode": {
    "name": "ipython",
    "version": 3
   },
   "file_extension": ".py",
   "mimetype": "text/x-python",
   "name": "python",
   "nbconvert_exporter": "python",
   "pygments_lexer": "ipython3",
   "version": "3.12.7"
  }
 },
 "nbformat": 4,
 "nbformat_minor": 5
}
